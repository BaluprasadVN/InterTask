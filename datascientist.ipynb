{
  "nbformat": 4,
  "nbformat_minor": 0,
  "metadata": {
    "colab": {
      "provenance": [],
      "include_colab_link": true
    },
    "kernelspec": {
      "name": "python3",
      "display_name": "Python 3"
    },
    "language_info": {
      "name": "python"
    }
  },
  "cells": [
    {
      "cell_type": "markdown",
      "metadata": {
        "id": "view-in-github",
        "colab_type": "text"
      },
      "source": [
        "<a href=\"https://colab.research.google.com/github/BaluprasadVN/InterTask/blob/main/datascientist.ipynb\" target=\"_parent\"><img src=\"https://colab.research.google.com/assets/colab-badge.svg\" alt=\"Open In Colab\"/></a>"
      ]
    },
    {
      "cell_type": "code",
      "execution_count": null,
      "metadata": {
        "id": "3E2FY6-8RxTb"
      },
      "outputs": [],
      "source": []
    },
    {
      "cell_type": "code",
      "source": [
        "pip install pandas beautifulsoup4 requests nltk openpyxl\n"
      ],
      "metadata": {
        "colab": {
          "base_uri": "https://localhost:8080/"
        },
        "id": "GB0FC7esW5aZ",
        "outputId": "b2da1adc-be85-481c-d1ed-a5187625c3b1"
      },
      "execution_count": 1,
      "outputs": [
        {
          "output_type": "stream",
          "name": "stdout",
          "text": [
            "Requirement already satisfied: pandas in /usr/local/lib/python3.10/dist-packages (2.1.4)\n",
            "Requirement already satisfied: beautifulsoup4 in /usr/local/lib/python3.10/dist-packages (4.12.3)\n",
            "Requirement already satisfied: requests in /usr/local/lib/python3.10/dist-packages (2.32.3)\n",
            "Requirement already satisfied: nltk in /usr/local/lib/python3.10/dist-packages (3.8.1)\n",
            "Requirement already satisfied: openpyxl in /usr/local/lib/python3.10/dist-packages (3.1.5)\n",
            "Requirement already satisfied: numpy<2,>=1.22.4 in /usr/local/lib/python3.10/dist-packages (from pandas) (1.26.4)\n",
            "Requirement already satisfied: python-dateutil>=2.8.2 in /usr/local/lib/python3.10/dist-packages (from pandas) (2.8.2)\n",
            "Requirement already satisfied: pytz>=2020.1 in /usr/local/lib/python3.10/dist-packages (from pandas) (2024.1)\n",
            "Requirement already satisfied: tzdata>=2022.1 in /usr/local/lib/python3.10/dist-packages (from pandas) (2024.1)\n",
            "Requirement already satisfied: soupsieve>1.2 in /usr/local/lib/python3.10/dist-packages (from beautifulsoup4) (2.6)\n",
            "Requirement already satisfied: charset-normalizer<4,>=2 in /usr/local/lib/python3.10/dist-packages (from requests) (3.3.2)\n",
            "Requirement already satisfied: idna<4,>=2.5 in /usr/local/lib/python3.10/dist-packages (from requests) (3.7)\n",
            "Requirement already satisfied: urllib3<3,>=1.21.1 in /usr/local/lib/python3.10/dist-packages (from requests) (2.0.7)\n",
            "Requirement already satisfied: certifi>=2017.4.17 in /usr/local/lib/python3.10/dist-packages (from requests) (2024.7.4)\n",
            "Requirement already satisfied: click in /usr/local/lib/python3.10/dist-packages (from nltk) (8.1.7)\n",
            "Requirement already satisfied: joblib in /usr/local/lib/python3.10/dist-packages (from nltk) (1.4.2)\n",
            "Requirement already satisfied: regex>=2021.8.3 in /usr/local/lib/python3.10/dist-packages (from nltk) (2024.5.15)\n",
            "Requirement already satisfied: tqdm in /usr/local/lib/python3.10/dist-packages (from nltk) (4.66.5)\n",
            "Requirement already satisfied: et-xmlfile in /usr/local/lib/python3.10/dist-packages (from openpyxl) (1.1.0)\n",
            "Requirement already satisfied: six>=1.5 in /usr/local/lib/python3.10/dist-packages (from python-dateutil>=2.8.2->pandas) (1.16.0)\n"
          ]
        }
      ]
    },
    {
      "cell_type": "code",
      "source": [
        "from google.colab import files\n",
        "uploaded = files.upload()\n"
      ],
      "metadata": {
        "colab": {
          "base_uri": "https://localhost:8080/",
          "height": 73
        },
        "id": "jWpqL3EfYYYV",
        "outputId": "0112ff15-ab2e-4be3-b21d-8dc62e7b77d2"
      },
      "execution_count": 19,
      "outputs": [
        {
          "output_type": "display_data",
          "data": {
            "text/plain": [
              "<IPython.core.display.HTML object>"
            ],
            "text/html": [
              "\n",
              "     <input type=\"file\" id=\"files-119038cb-2b21-4958-8ec9-10d21cbfa8da\" name=\"files[]\" multiple disabled\n",
              "        style=\"border:none\" />\n",
              "     <output id=\"result-119038cb-2b21-4958-8ec9-10d21cbfa8da\">\n",
              "      Upload widget is only available when the cell has been executed in the\n",
              "      current browser session. Please rerun this cell to enable.\n",
              "      </output>\n",
              "      <script>// Copyright 2017 Google LLC\n",
              "//\n",
              "// Licensed under the Apache License, Version 2.0 (the \"License\");\n",
              "// you may not use this file except in compliance with the License.\n",
              "// You may obtain a copy of the License at\n",
              "//\n",
              "//      http://www.apache.org/licenses/LICENSE-2.0\n",
              "//\n",
              "// Unless required by applicable law or agreed to in writing, software\n",
              "// distributed under the License is distributed on an \"AS IS\" BASIS,\n",
              "// WITHOUT WARRANTIES OR CONDITIONS OF ANY KIND, either express or implied.\n",
              "// See the License for the specific language governing permissions and\n",
              "// limitations under the License.\n",
              "\n",
              "/**\n",
              " * @fileoverview Helpers for google.colab Python module.\n",
              " */\n",
              "(function(scope) {\n",
              "function span(text, styleAttributes = {}) {\n",
              "  const element = document.createElement('span');\n",
              "  element.textContent = text;\n",
              "  for (const key of Object.keys(styleAttributes)) {\n",
              "    element.style[key] = styleAttributes[key];\n",
              "  }\n",
              "  return element;\n",
              "}\n",
              "\n",
              "// Max number of bytes which will be uploaded at a time.\n",
              "const MAX_PAYLOAD_SIZE = 100 * 1024;\n",
              "\n",
              "function _uploadFiles(inputId, outputId) {\n",
              "  const steps = uploadFilesStep(inputId, outputId);\n",
              "  const outputElement = document.getElementById(outputId);\n",
              "  // Cache steps on the outputElement to make it available for the next call\n",
              "  // to uploadFilesContinue from Python.\n",
              "  outputElement.steps = steps;\n",
              "\n",
              "  return _uploadFilesContinue(outputId);\n",
              "}\n",
              "\n",
              "// This is roughly an async generator (not supported in the browser yet),\n",
              "// where there are multiple asynchronous steps and the Python side is going\n",
              "// to poll for completion of each step.\n",
              "// This uses a Promise to block the python side on completion of each step,\n",
              "// then passes the result of the previous step as the input to the next step.\n",
              "function _uploadFilesContinue(outputId) {\n",
              "  const outputElement = document.getElementById(outputId);\n",
              "  const steps = outputElement.steps;\n",
              "\n",
              "  const next = steps.next(outputElement.lastPromiseValue);\n",
              "  return Promise.resolve(next.value.promise).then((value) => {\n",
              "    // Cache the last promise value to make it available to the next\n",
              "    // step of the generator.\n",
              "    outputElement.lastPromiseValue = value;\n",
              "    return next.value.response;\n",
              "  });\n",
              "}\n",
              "\n",
              "/**\n",
              " * Generator function which is called between each async step of the upload\n",
              " * process.\n",
              " * @param {string} inputId Element ID of the input file picker element.\n",
              " * @param {string} outputId Element ID of the output display.\n",
              " * @return {!Iterable<!Object>} Iterable of next steps.\n",
              " */\n",
              "function* uploadFilesStep(inputId, outputId) {\n",
              "  const inputElement = document.getElementById(inputId);\n",
              "  inputElement.disabled = false;\n",
              "\n",
              "  const outputElement = document.getElementById(outputId);\n",
              "  outputElement.innerHTML = '';\n",
              "\n",
              "  const pickedPromise = new Promise((resolve) => {\n",
              "    inputElement.addEventListener('change', (e) => {\n",
              "      resolve(e.target.files);\n",
              "    });\n",
              "  });\n",
              "\n",
              "  const cancel = document.createElement('button');\n",
              "  inputElement.parentElement.appendChild(cancel);\n",
              "  cancel.textContent = 'Cancel upload';\n",
              "  const cancelPromise = new Promise((resolve) => {\n",
              "    cancel.onclick = () => {\n",
              "      resolve(null);\n",
              "    };\n",
              "  });\n",
              "\n",
              "  // Wait for the user to pick the files.\n",
              "  const files = yield {\n",
              "    promise: Promise.race([pickedPromise, cancelPromise]),\n",
              "    response: {\n",
              "      action: 'starting',\n",
              "    }\n",
              "  };\n",
              "\n",
              "  cancel.remove();\n",
              "\n",
              "  // Disable the input element since further picks are not allowed.\n",
              "  inputElement.disabled = true;\n",
              "\n",
              "  if (!files) {\n",
              "    return {\n",
              "      response: {\n",
              "        action: 'complete',\n",
              "      }\n",
              "    };\n",
              "  }\n",
              "\n",
              "  for (const file of files) {\n",
              "    const li = document.createElement('li');\n",
              "    li.append(span(file.name, {fontWeight: 'bold'}));\n",
              "    li.append(span(\n",
              "        `(${file.type || 'n/a'}) - ${file.size} bytes, ` +\n",
              "        `last modified: ${\n",
              "            file.lastModifiedDate ? file.lastModifiedDate.toLocaleDateString() :\n",
              "                                    'n/a'} - `));\n",
              "    const percent = span('0% done');\n",
              "    li.appendChild(percent);\n",
              "\n",
              "    outputElement.appendChild(li);\n",
              "\n",
              "    const fileDataPromise = new Promise((resolve) => {\n",
              "      const reader = new FileReader();\n",
              "      reader.onload = (e) => {\n",
              "        resolve(e.target.result);\n",
              "      };\n",
              "      reader.readAsArrayBuffer(file);\n",
              "    });\n",
              "    // Wait for the data to be ready.\n",
              "    let fileData = yield {\n",
              "      promise: fileDataPromise,\n",
              "      response: {\n",
              "        action: 'continue',\n",
              "      }\n",
              "    };\n",
              "\n",
              "    // Use a chunked sending to avoid message size limits. See b/62115660.\n",
              "    let position = 0;\n",
              "    do {\n",
              "      const length = Math.min(fileData.byteLength - position, MAX_PAYLOAD_SIZE);\n",
              "      const chunk = new Uint8Array(fileData, position, length);\n",
              "      position += length;\n",
              "\n",
              "      const base64 = btoa(String.fromCharCode.apply(null, chunk));\n",
              "      yield {\n",
              "        response: {\n",
              "          action: 'append',\n",
              "          file: file.name,\n",
              "          data: base64,\n",
              "        },\n",
              "      };\n",
              "\n",
              "      let percentDone = fileData.byteLength === 0 ?\n",
              "          100 :\n",
              "          Math.round((position / fileData.byteLength) * 100);\n",
              "      percent.textContent = `${percentDone}% done`;\n",
              "\n",
              "    } while (position < fileData.byteLength);\n",
              "  }\n",
              "\n",
              "  // All done.\n",
              "  yield {\n",
              "    response: {\n",
              "      action: 'complete',\n",
              "    }\n",
              "  };\n",
              "}\n",
              "\n",
              "scope.google = scope.google || {};\n",
              "scope.google.colab = scope.google.colab || {};\n",
              "scope.google.colab._files = {\n",
              "  _uploadFiles,\n",
              "  _uploadFilesContinue,\n",
              "};\n",
              "})(self);\n",
              "</script> "
            ]
          },
          "metadata": {}
        },
        {
          "output_type": "stream",
          "name": "stdout",
          "text": [
            "Saving MasterDictionary.zip to MasterDictionary.zip\n"
          ]
        }
      ]
    },
    {
      "cell_type": "code",
      "source": [
        "import pandas as pd\n",
        "\n",
        "# Load the input Excel file\n",
        "input_file = \"Input.xlsx\"\n",
        "df = pd.read_excel(input_file)\n",
        "\n",
        "# Display the first few rows to ensure it's loaded correctly\n",
        "print(df.head())\n"
      ],
      "metadata": {
        "colab": {
          "base_uri": "https://localhost:8080/"
        },
        "id": "MXWKuD19ZRcE",
        "outputId": "2af3e499-3948-4cb4-f5bd-709ebd9372db"
      },
      "execution_count": 10,
      "outputs": [
        {
          "output_type": "stream",
          "name": "stdout",
          "text": [
            "       URL_ID                                                URL\n",
            "0  bctech2011  https://insights.blackcoffer.com/ml-and-ai-bas...\n",
            "1  bctech2012  https://insights.blackcoffer.com/streamlined-i...\n",
            "2  bctech2013  https://insights.blackcoffer.com/efficient-dat...\n",
            "3  bctech2014  https://insights.blackcoffer.com/effective-man...\n",
            "4  bctech2015  https://insights.blackcoffer.com/streamlined-t...\n"
          ]
        }
      ]
    },
    {
      "cell_type": "code",
      "source": [
        "import requests\n",
        "from bs4 import BeautifulSoup\n",
        "\n",
        "def extract_article_text(url):\n",
        "    # Send a GET request to the URL\n",
        "    response = requests.get(url)\n",
        "    soup = BeautifulSoup(response.content, 'html.parser')\n",
        "\n",
        "    # Extract the article title\n",
        "    title = soup.find('h1').get_text()\n",
        "\n",
        "    # Extract the article body; adjust the tag and class based on the site's HTML structure\n",
        "    paragraphs = soup.find_all('p')\n",
        "    article_text = ' '.join([para.get_text() for para in paragraphs])\n",
        "\n",
        "    return title, article_text\n",
        "\n",
        "# Example usage:\n",
        "url = df['URL'][0]\n",
        "title, article_text = extract_article_text(url)\n",
        "print(f\"Title: {title}\\n\\nArticle Text: {article_text[:500]}...\")  # Display first 500 characters\n"
      ],
      "metadata": {
        "colab": {
          "base_uri": "https://localhost:8080/"
        },
        "id": "xtx3iABMZZxZ",
        "outputId": "90d4a97b-5c2c-4faa-c54e-400738ad42d4"
      },
      "execution_count": 11,
      "outputs": [
        {
          "output_type": "stream",
          "name": "stdout",
          "text": [
            "Title: ML and AI-based insurance premium model to predict premium to be charged by the insurance company\n",
            "\n",
            "Article Text: Healthcare AI ChatBot using LLAMA, LLM, Langchain Efficient Supply Chain Assessment: Overcoming Technical Hurdles for Web Application Development Streamlined Integration: Interactive Brokers API with Python for Desktop Trading Application Efficient Data Integration and User-Friendly Interface Development: Navigating Challenges in Web Application Deployment AI Chatbot using LLM, Langchain, LLama AI Bot Audio to audio Methodology for ETL Discovery Tool using LLMA, OpenAI, Langchain Methodology for...\n"
          ]
        }
      ]
    },
    {
      "cell_type": "code",
      "source": [
        "import os\n",
        "\n",
        "output_dir = \"extracted_articles\"\n",
        "os.makedirs(output_dir, exist_ok=True)\n",
        "\n",
        "def save_article_text(url_id, title, article_text):\n",
        "    file_path = os.path.join(output_dir, f\"{url_id}.txt\")\n",
        "    with open(file_path, \"w\", encoding=\"utf-8\") as file:\n",
        "        file.write(title + \"\\n\\n\" + article_text)\n",
        "\n",
        "# Loop through all URLs in the input file\n",
        "for index, row in df.iterrows():\n",
        "    url_id = row['URL_ID']\n",
        "    url = row['URL']\n",
        "    title, article_text = extract_article_text(url)\n",
        "    save_article_text(url_id, title, article_text)\n"
      ],
      "metadata": {
        "id": "IcqLQMZ7ZfzZ"
      },
      "execution_count": 12,
      "outputs": []
    },
    {
      "cell_type": "code",
      "source": [
        "import os\n",
        "from google.colab import files\n",
        "import zipfile\n",
        "# Function to load stop words from multiple files in the StopWords directory\n",
        "def load_stop_words(stop_words_dir):\n",
        "    stop_words = set()\n",
        "\n",
        "    # Loop through all .txt files in the specified directory\n",
        "    for file_name in os.listdir(stop_words_dir):\n",
        "        if file_name.endswith('.txt'):\n",
        "            with open(os.path.join(stop_words_dir, file_name), 'r', encoding='latin-1') as file:  # Specify encoding\n",
        "                words = file.read().splitlines()\n",
        "                stop_words.update(words)\n",
        "\n",
        "    return stop_words\n",
        "\n",
        "# Define the path to the StopWords directory\n",
        "zip_file_path = 'StopWords.zip'  # Update this with the actual zip file name\n",
        "stop_words_dir = \"StopWords/StopWords/\"\n",
        "os.makedirs(stop_words_dir, exist_ok=True)\n",
        "\n",
        "with zipfile.ZipFile(zip_file_path, 'r') as zip_ref:\n",
        "    zip_ref.extractall(stop_words_dir)\n",
        "\n",
        "\n",
        "# Load all stop words\n",
        "stop_words = load_stop_words(stop_words_dir)\n",
        "\n",
        "# Display the first few stop words to ensure it's loaded correctly\n",
        "print(f\"Total Stop Words Loaded: {len(stop_words)}\")\n",
        "print(f\"Sample Stop Words: {list(stop_words)[:10]}\")"
      ],
      "metadata": {
        "colab": {
          "base_uri": "https://localhost:8080/"
        },
        "id": "OfqEFwfdg7hN",
        "outputId": "2a2f825d-0c51-405f-a289-b93b5e6bb7dc"
      },
      "execution_count": 16,
      "outputs": [
        {
          "output_type": "stream",
          "name": "stdout",
          "text": [
            "Total Stop Words Loaded: 0\n",
            "Sample Stop Words: []\n"
          ]
        }
      ]
    },
    {
      "cell_type": "code",
      "source": [
        "import os\n",
        "\n",
        "# Function to load stop words from multiple files in the StopWords directory\n",
        "def load_stop_words(stop_words_dir):\n",
        "    stop_words = set()\n",
        "\n",
        "    # Loop through all .txt files in the specified directory\n",
        "    for file_name in os.listdir(stop_words_dir):\n",
        "        if file_name.endswith('.txt'):\n",
        "            with open(os.path.join(stop_words_dir, file_name), 'r', encoding='latin-1') as file:  # Specify encoding\n",
        "                words = file.read().splitlines()\n",
        "                stop_words.update(words)\n",
        "\n",
        "    return stop_words\n",
        "\n",
        "# Define the path to the StopWords directory\n",
        "stop_words_dir = \"StopWords/StopWords/StopWords\"\n",
        "\n",
        "# Load all stop words\n",
        "stop_words = load_stop_words(stop_words_dir)\n",
        "\n",
        "# Display the first few stop words to ensure it's loaded correctly\n",
        "print(f\"Total Stop Words Loaded: {len(stop_words)}\")\n",
        "print(f\"Sample Stop Words: {list(stop_words)[:10]}\")"
      ],
      "metadata": {
        "colab": {
          "base_uri": "https://localhost:8080/"
        },
        "id": "67A3Rh-XxFbj",
        "outputId": "67ddc850-2198-4d0a-ea0f-1317b3cb1a55"
      },
      "execution_count": 25,
      "outputs": [
        {
          "output_type": "stream",
          "name": "stdout",
          "text": [
            "Total Stop Words Loaded: 12919\n",
            "Sample Stop Words: ['JULIO', 'SPALDING', 'FRANZEN', 'DEON', 'HICKS', 'SHUBERT', 'MARGUERITA', 'DEANA', 'WIGHT', 'DOLLIE']\n"
          ]
        }
      ]
    },
    {
      "cell_type": "code",
      "source": [
        "import nltk\n",
        "nltk.download('punkt')\n",
        "from nltk.tokenize import word_tokenize\n",
        "\n",
        "def preprocess_text(text, stop_words):\n",
        "    # Tokenize the text\n",
        "    words = word_tokenize(text.lower())\n",
        "\n",
        "    # Remove stop words and non-alphabetic tokens\n",
        "    cleaned_words = [word for word in words if word.isalpha() and word not in stop_words]\n",
        "\n",
        "    return cleaned_words\n",
        "\n",
        "# Example usage with the loaded stop words\n",
        "sample_text = article_text\n",
        "cleaned_words = preprocess_text(sample_text, stop_words)\n",
        "print(f\"Cleaned Words: {cleaned_words[:50]}\")  # Display first 50 words\n"
      ],
      "metadata": {
        "colab": {
          "base_uri": "https://localhost:8080/"
        },
        "id": "t39R4plghaX_",
        "outputId": "d15a2a71-8bab-4ed4-9f71-80bbe9f3e9e6"
      },
      "execution_count": 26,
      "outputs": [
        {
          "output_type": "stream",
          "name": "stdout",
          "text": [
            "Cleaned Words: ['healthcare', 'ai', 'chatbot', 'llama', 'llm', 'langchain', 'efficient', 'supply', 'chain', 'assessment', 'overcoming', 'technical', 'hurdles', 'web', 'application', 'development', 'streamlined', 'integration', 'interactive', 'brokers', 'api', 'python', 'desktop', 'trading', 'application', 'efficient', 'data', 'integration', 'interface', 'development', 'navigating', 'challenges', 'web', 'application', 'deployment', 'ai', 'chatbot', 'llm', 'langchain', 'llama', 'ai', 'bot', 'audio', 'audio', 'methodology', 'etl', 'discovery', 'tool', 'llma', 'openai']\n"
          ]
        },
        {
          "output_type": "stream",
          "name": "stderr",
          "text": [
            "[nltk_data] Downloading package punkt to /root/nltk_data...\n",
            "[nltk_data]   Package punkt is already up-to-date!\n"
          ]
        }
      ]
    },
    {
      "cell_type": "code",
      "source": [
        "from google.colab import files\n",
        "import zipfile\n",
        "import os\n",
        "\n",
        "\n",
        "# Step 2: Extract the zip file\n",
        "zip_file_path = 'MasterDictionary.zip'  # Update this with the actual zip file name\n",
        "extract_dir = '/content/MasterDictionary/'\n",
        "\n",
        "os.makedirs(extract_dir, exist_ok=True)\n",
        "\n",
        "with zipfile.ZipFile(zip_file_path, 'r') as zip_ref:\n",
        "    zip_ref.extractall(extract_dir)\n",
        "\n",
        "def load_words(file_path, encoding='latin-1'):\n",
        "    with open(file_path, 'r', encoding=encoding) as file:\n",
        "        return set(file.read().splitlines())\n",
        "\n",
        "# Load the positive and negative word lists\n",
        "positive_words = load_words('/content/MasterDictionary/MasterDictionary/positive-words.txt')\n",
        "negative_words = load_words('/content/MasterDictionary/MasterDictionary/negative-words.txt')\n",
        "\n",
        "def create_sentiment_dictionaries(cleaned_words):\n",
        "    positive_count = sum(1 for word in cleaned_words if word in positive_words)\n",
        "    negative_count = sum(1 for word in cleaned_words if word in negative_words)\n",
        "\n",
        "    return positive_count, negative_count\n",
        "\n",
        "positive_count, negative_count = create_sentiment_dictionaries(cleaned_words)\n",
        "print(f\"Positive Count: {positive_count}, Negative Count: {negative_count}\")\n",
        "\n"
      ],
      "metadata": {
        "colab": {
          "base_uri": "https://localhost:8080/"
        },
        "id": "8heLsnw1iGzD",
        "outputId": "b0077939-fc6f-4187-a114-fb2512f51daa"
      },
      "execution_count": 27,
      "outputs": [
        {
          "output_type": "stream",
          "name": "stdout",
          "text": [
            "Positive Count: 8, Negative Count: 1\n"
          ]
        }
      ]
    },
    {
      "cell_type": "code",
      "source": [
        "def calculate_sentiment_scores(positive_count, negative_count, total_words):\n",
        "    polarity_score = (positive_count - negative_count) / ((positive_count + negative_count) + 0.000001)\n",
        "    subjectivity_score = (positive_count + negative_count) / (total_words + 0.000001)\n",
        "\n",
        "    return polarity_score, subjectivity_score\n",
        "\n",
        "# Example usage\n",
        "polarity_score, subjectivity_score = calculate_sentiment_scores(positive_count, negative_count, len(cleaned_words))\n",
        "print(f\"Polarity Score: {polarity_score}, Subjectivity Score: {subjectivity_score}\")\n"
      ],
      "metadata": {
        "colab": {
          "base_uri": "https://localhost:8080/"
        },
        "id": "ypIfer05lJpT",
        "outputId": "62080114-a02d-4d52-8832-8a2673781ddf"
      },
      "execution_count": 28,
      "outputs": [
        {
          "output_type": "stream",
          "name": "stdout",
          "text": [
            "Polarity Score: 0.7777776913580343, Subjectivity Score: 0.046632124110714386\n"
          ]
        }
      ]
    },
    {
      "cell_type": "code",
      "source": [
        "def analyze_readability(text, cleaned_words):\n",
        "    sentences = nltk.sent_tokenize(text)\n",
        "    num_sentences = len(sentences)\n",
        "    num_words = len(cleaned_words)\n",
        "\n",
        "    avg_sentence_length = num_words / num_sentences if num_sentences != 0 else 0\n",
        "    num_complex_words = sum(1 for word in cleaned_words if len(nltk.word_tokenize(word)) > 2)\n",
        "    percentage_complex_words = num_complex_words / num_words if num_words != 0 else 0\n",
        "    fog_index = 0.4 * (avg_sentence_length + percentage_complex_words)\n",
        "\n",
        "    return avg_sentence_length, percentage_complex_words, fog_index\n",
        "\n",
        "# Example usage\n",
        "avg_sentence_length, percentage_complex_words, fog_index = analyze_readability(sample_text, cleaned_words)\n",
        "print(f\"Avg Sentence Length: {avg_sentence_length}, % Complex Words: {percentage_complex_words}, Fog Index: {fog_index}\")\n"
      ],
      "metadata": {
        "colab": {
          "base_uri": "https://localhost:8080/"
        },
        "id": "M1PerZ1nlLes",
        "outputId": "9dcea7fd-781f-4168-e7e7-9d9c55661fd6"
      },
      "execution_count": 29,
      "outputs": [
        {
          "output_type": "stream",
          "name": "stdout",
          "text": [
            "Avg Sentence Length: 17.545454545454547, % Complex Words: 0.0, Fog Index: 7.018181818181819\n"
          ]
        }
      ]
    },
    {
      "cell_type": "code",
      "source": [
        "def calculate_additional_metrics(cleaned_words, text):\n",
        "    # Average number of words per sentence\n",
        "    num_sentences = len(nltk.sent_tokenize(text))\n",
        "    avg_words_per_sentence = len(cleaned_words) / num_sentences if num_sentences != 0 else 0\n",
        "\n",
        "    # Word count\n",
        "    word_count = len(cleaned_words)\n",
        "\n",
        "    # Syllable count per word\n",
        "    def syllable_count(word):\n",
        "        vowels = \"aeiouy\"\n",
        "        word = word.lower()\n",
        "        count = 0\n",
        "        if word[0] in vowels:\n",
        "            count += 1\n",
        "        for index in range(1, len(word)):\n",
        "            if word[index] in vowels and word[index - 1] not in vowels:\n",
        "                count += 1\n",
        "        if word.endswith(\"e\"):\n",
        "            count -= 1\n",
        "        if word.endswith(\"le\") and len(word) > 2 and word[-3] not in vowels:\n",
        "            count += 1\n",
        "        return count if count > 0 else 1\n",
        "\n",
        "    syllables_per_word = sum(syllable_count(word) for word in cleaned_words) / len(cleaned_words)\n",
        "\n",
        "    # Personal pronouns\n",
        "    personal_pronouns = sum(1 for word in cleaned_words if word in [\"i\", \"we\", \"my\", \"ours\", \"us\"])\n",
        "\n",
        "    # Average word length\n",
        "    avg_word_length = sum(len(word) for word in cleaned_words) / len(cleaned_words) if len(cleaned_words) != 0 else 0\n",
        "\n",
        "    return avg_words_per_sentence, word_count, syllables_per_word, personal_pronouns, avg_word_length\n",
        "\n",
        "# Example usage\n",
        "avg_words_per_sentence, word_count, syllables_per_word, personal_pronouns, avg_word_length = calculate_additional_metrics(cleaned_words, sample_text)\n",
        "print(f\"Avg Words/Sentence: {avg_words_per_sentence}, Word Count: {word_count}, Syllables/Word: {syllables_per_word}, Personal Pronouns: {personal_pronouns}, Avg Word Length: {avg_word_length}\")\n"
      ],
      "metadata": {
        "colab": {
          "base_uri": "https://localhost:8080/"
        },
        "id": "CqcR6NW6lPZV",
        "outputId": "9ff4dd99-a71b-417e-ac1c-60d4cfabb05b"
      },
      "execution_count": 30,
      "outputs": [
        {
          "output_type": "stream",
          "name": "stdout",
          "text": [
            "Avg Words/Sentence: 17.545454545454547, Word Count: 193, Syllables/Word: 2.38860103626943, Personal Pronouns: 0, Avg Word Length: 7.119170984455959\n"
          ]
        }
      ]
    },
    {
      "cell_type": "code",
      "source": [
        "output_data = []\n",
        "\n",
        "# Loop through all URLs in the input file\n",
        "for index, row in df.iterrows():\n",
        "    url_id = row['URL_ID']\n",
        "    url = row['URL']\n",
        "    title, article_text = extract_article_text(url)\n",
        "    cleaned_words = preprocess_text(article_text, stop_words)  # Provide stop_words here\n",
        "    positive_count, negative_count = create_sentiment_dictionaries(cleaned_words)\n",
        "    polarity_score, subjectivity_score = calculate_sentiment_scores(positive_count, negative_count, len(cleaned_words))\n",
        "    avg_sentence_length, percentage_complex_words, fog_index = analyze_readability(article_text, cleaned_words)\n",
        "    avg_words_per_sentence, word_count, syllables_per_word, personal_pronouns, avg_word_length = calculate_additional_metrics(cleaned_words, article_text)\n",
        "\n",
        "    # Append to output data\n",
        "    output_data.append([\n",
        "        url_id, url, positive_count, negative_count, polarity_score, subjectivity_score,\n",
        "        avg_sentence_length, percentage_complex_words, fog_index, avg_words_per_sentence,\n",
        "        word_count, syllables_per_word, personal_pronouns, avg_word_length\n",
        "    ])\n",
        "\n",
        "# Create a DataFrame with the output data\n",
        "output_df = pd.DataFrame(output_data, columns=[\n",
        "    \"URL_ID\", \"URL\", \"POSITIVE SCORE\", \"NEGATIVE SCORE\", \"POLARITY SCORE\", \"SUBJECTIVITY SCORE\",\n",
        "    \"AVG SENTENCE LENGTH\", \"PERCENTAGE OF COMPLEX WORDS\", \"FOG INDEX\", \"AVG NUMBER OF WORDS PER SENTENCE\",\n",
        "    \"WORD COUNT\", \"SYLLABLE PER WORD\", \"PERSONAL PRONOUNS\", \"AVG WORD LENGTH\"\n",
        "])\n",
        "\n",
        "# Save to Excel\n",
        "output_df.to_excel(\"Output Data Structure.xlsx\", index=False)\n"
      ],
      "metadata": {
        "id": "ym0q-o5slVQp"
      },
      "execution_count": 31,
      "outputs": []
    }
  ]
}